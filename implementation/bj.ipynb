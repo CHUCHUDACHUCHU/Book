{
 "cells": [
  {
   "cell_type": "code",
   "execution_count": null,
   "metadata": {},
   "outputs": [],
   "source": [
    "# 구현\n",
    "# ver:24.10.20 17:11\n",
    "# level : silver(5,4,3)"
   ]
  },
  {
   "cell_type": "code",
   "execution_count": 15,
   "metadata": {},
   "outputs": [
    {
     "name": "stdout",
     "output_type": "stream",
     "text": [
      "1 2 3 4 \n",
      "5 6 7 8 \n"
     ]
    }
   ],
   "source": [
    "# 배열 복원하기\n",
    "def test():\n",
    "    h,w,x,y = map(int, input().split())\n",
    "    arr_b = []\n",
    "    for _ in range(h+x):\n",
    "        arr_b.append(list(map(int, input().split())))\n",
    "\n",
    "    arr_a = [[0 for _ in range(w)] for _ in range(h)]\n",
    "    for r in range(h):\n",
    "        for c in range(w):\n",
    "            if r>=x and c>=y:\n",
    "                arr_a[r][c] = arr_b[r][c]-arr_a[r-x][c-y]\n",
    "            else:\n",
    "                arr_a[r][c] = arr_b[r][c]\n",
    "\n",
    "    for r in range(h):\n",
    "        for c in range(w):\n",
    "            print(arr_a[r][c], end=' ')\n",
    "        print()\n",
    "    \n",
    "test()"
   ]
  },
  {
   "cell_type": "code",
   "execution_count": 16,
   "metadata": {},
   "outputs": [
    {
     "name": "stdout",
     "output_type": "stream",
     "text": [
      "May Pass.\n",
      "TLE!\n",
      "May Pass.\n",
      "May Pass.\n",
      "TLE!\n"
     ]
    }
   ],
   "source": [
    "# 시간초과\n",
    "import math\n",
    "def test():\n",
    "    C = int(input())\n",
    "    for _ in range(C):\n",
    "        temp = input().split()\n",
    "        S = temp[0]\n",
    "        N, T, L = map(int, temp[1:])\n",
    "        limit = (10 ** 8) * L\n",
    "        if S == \"O(N)\":\n",
    "            if N * T <= limit:\n",
    "                print(\"May Pass.\")\n",
    "            else:\n",
    "                print(\"TLE!\")\n",
    "        if S == \"O(N^2)\":\n",
    "            if ((N ** 2) * T) <= limit:\n",
    "                print(\"May Pass.\")\n",
    "            else:\n",
    "                print(\"TLE!\")\n",
    "        if S == \"O(N^3)\":\n",
    "            if ((N ** 3) * T) <= limit:\n",
    "                print(\"May Pass.\")\n",
    "            else:\n",
    "                print(\"TLE!\")            \n",
    "        if S == \"O(2^N)\":\n",
    "            if ((2 ** N) * T) <= limit:\n",
    "                print(\"May Pass.\")\n",
    "            else:\n",
    "                print(\"TLE!\")\n",
    "        if S == \"O(N!)\":\n",
    "            if (math.factorial(N) * T) <= limit:\n",
    "                print(\"May Pass.\")\n",
    "            else:\n",
    "                print(\"TLE!\")\n",
    "\n",
    "test()"
   ]
  },
  {
   "cell_type": "raw",
   "metadata": {
    "vscode": {
     "languageId": "raw"
    }
   },
   "source": [
    "ALJCRUO\n",
    "\n",
    "ALCJRUO\n",
    "\n",
    "ACLRJUO\n",
    "\n",
    "CARLUJO"
   ]
  },
  {
   "cell_type": "code",
   "execution_count": 24,
   "metadata": {},
   "outputs": [
    {
     "name": "stdout",
     "output_type": "stream",
     "text": [
      "CDBEAF\n"
     ]
    }
   ],
   "source": [
    "# 개미\n",
    "def test():\n",
    "    a,b = map(int, input().split())\n",
    "    A = input()\n",
    "    B = input()\n",
    "    c = int(input())\n",
    "\n",
    "    start = list(A[::-1]+B)\n",
    "\n",
    "    while c>0:\n",
    "        for i,s in enumerate(start[:-1]):\n",
    "            if s in A and start[i+1] in B:\n",
    "                start[i] = start[i+1]\n",
    "                start[i+1] = s\n",
    "            else:\n",
    "                continue\n",
    "        c -= 1\n",
    "\n",
    "    print(''.join(start))\n",
    "\n",
    "test()"
   ]
  }
 ],
 "metadata": {
  "kernelspec": {
   "display_name": "Python 3",
   "language": "python",
   "name": "python3"
  },
  "language_info": {
   "codemirror_mode": {
    "name": "ipython",
    "version": 3
   },
   "file_extension": ".py",
   "mimetype": "text/x-python",
   "name": "python",
   "nbconvert_exporter": "python",
   "pygments_lexer": "ipython3",
   "version": "3.12.6"
  }
 },
 "nbformat": 4,
 "nbformat_minor": 2
}
