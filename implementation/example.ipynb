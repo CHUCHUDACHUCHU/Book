{
 "cells": [
  {
   "cell_type": "code",
   "execution_count": null,
   "metadata": {},
   "outputs": [],
   "source": [
    "# IMPLEMENTATION\n",
    "# example_x가 있다면 자세히 볼 것!!!\n",
    "# 추가적으로 알게된 항목이니 시험 전 항상 유의할 것."
   ]
  },
  {
   "cell_type": "code",
   "execution_count": 6,
   "metadata": {},
   "outputs": [
    {
     "name": "stdout",
     "output_type": "stream",
     "text": [
      "3 4\n"
     ]
    }
   ],
   "source": [
    "# 상하좌우\n",
    "\n",
    "def lrud():\n",
    "    limits = int(input())\n",
    "    start = [1,1]\n",
    "    table = {'U':[-1,0], 'D':[1,0], 'L':[0,-1], 'R':[0,1]}\n",
    "    attempts = input().split()\n",
    "\n",
    "    for a in attempts:\n",
    "        target = table[a]\n",
    "        start = [x+y for x,y in zip(start,target)]\n",
    "        if(start[0]<1 or start[1]<1 or start[0]>limits or start[1]>limits):\n",
    "            start = [x-y for x,y in zip(start,target)]\n",
    "\n",
    "    print(start[0], start[1])\n",
    "\n",
    "# lrud()\n",
    "\n",
    "# 원리는 내가 한 것과 동일함\n",
    "# 그러나 아래처럼 dx,dy를 이용하는게 추후\n",
    "# 알고리즘을 풀기에 좋을 듯 함.\n",
    "\n",
    "def ans():\n",
    "    n = int(input())\n",
    "    x,y = 1,1\n",
    "    plans = input().split()\n",
    "\n",
    "    dx=[0,0,-1,1]\n",
    "    dy=[-1,1,0,0]\n",
    "    move = ['L','R','U','D']\n",
    "\n",
    "    for plan in plans:\n",
    "        for i in range(len(move)):\n",
    "            if plan == move[i]:\n",
    "                nx = x + dx[i]\n",
    "                ny = y + dy[i]\n",
    "\n",
    "        if(nx<1 or ny<1 or nx>n or ny>n):\n",
    "            continue\n",
    "        x = nx\n",
    "        y = ny\n",
    "\n",
    "    print(x,y)\n",
    "\n",
    "ans()"
   ]
  },
  {
   "cell_type": "code",
   "execution_count": 7,
   "metadata": {},
   "outputs": [
    {
     "name": "stdout",
     "output_type": "stream",
     "text": [
      "11475\n"
     ]
    }
   ],
   "source": [
    "# 시각\n",
    "# 0시0분0초 ~ n시 59분 59초 사이에 3이 들어간 경우의 수!\n",
    "# 다 세어봤자, 86,400 ㅋㅋ\n",
    "\n",
    "def findThree():\n",
    "    target = int(input())\n",
    "    count = 0\n",
    "\n",
    "    for i in range(target+1):\n",
    "        for j in range(60):\n",
    "            for k in range(60):\n",
    "                if '3' in str(i) + str(j) + str(k):\n",
    "                    count += 1\n",
    "\n",
    "    print(count)\n",
    "\n",
    "findThree()"
   ]
  },
  {
   "cell_type": "code",
   "execution_count": 10,
   "metadata": {},
   "outputs": [
    {
     "name": "stdout",
     "output_type": "stream",
     "text": [
      "4\n"
     ]
    }
   ],
   "source": [
    "# 왕실의 나이트\n",
    "# 특정한 좌표를 얻은 뒤 나이트가 이동할 수 있는 좌표의 갯수 반환\n",
    "# 많아봤자 8개구만,,,ㅎ\n",
    "\n",
    "def knight():\n",
    "    input_str = input()\n",
    "    row = int(input_str[1])\n",
    "    col = int(ord(input_str[0])) - int(ord('a')) + 1\n",
    "\n",
    "    steps = [(-2,-1), (-1,-2), (1,-2), (2,-1), (1,2), (2,1), (-1,2), (-2, 1)] \n",
    "    result = 0\n",
    "\n",
    "    for st in steps:\n",
    "        nr = row + st[0]\n",
    "        nc = col + st[1]\n",
    "\n",
    "        if nr >=1 and nc >= 1 and nr <= 8 and nc <=8:\n",
    "            result += 1\n",
    "\n",
    "    print(result)\n",
    "\n",
    "knight()\n",
    "\n",
    "\n",
    "# dx,dy 처럼 사용할 수 있고 steps처럼 사용할 수 잇어야 할듯!"
   ]
  },
  {
   "cell_type": "code",
   "execution_count": 20,
   "metadata": {},
   "outputs": [
    {
     "name": "stdout",
     "output_type": "stream",
     "text": [
      "[1, 1, 1, 1]\n",
      "[1, 0, 0, 1]\n",
      "[1, 1, 0, 1]\n",
      "[1, 1, 1, 1]\n",
      "1 0\n",
      "2 1\n",
      "1 2\n",
      "=== (1, 2)\n",
      "0 2\n",
      "1 1\n",
      "2 2\n",
      "=== (2, 2)\n",
      "2 3\n",
      "1 2\n",
      "2 1\n",
      "3 2\n",
      "1 3\n",
      "0 2\n",
      "1 1\n",
      "2 2\n",
      "3\n"
     ]
    }
   ],
   "source": [
    "\n",
    "# 게임 개발\n",
    "\n",
    "def gameMap():\n",
    "    n, m = map(int, input().split())\n",
    "\n",
    "    d = [[0]*m for _ in range(n)]\n",
    "\n",
    "    x,y,direction = map(int, input().split())\n",
    "    d[x][y] = 1\n",
    "\n",
    "    arr = []\n",
    "    for i in range(n):\n",
    "        arr.append(list(map(int,input().split())))\n",
    "\n",
    "    for a in arr:\n",
    "        print(a)\n",
    "\n",
    "    # 북, 동, 남, 서\n",
    "    dx=[-1,0,1,0]\n",
    "    dy=[0,1,0,-1]\n",
    "\n",
    "    def turn_left(direct):\n",
    "        direct -= 1\n",
    "        if direct == -1:\n",
    "            direct = 3\n",
    "        return direct\n",
    "\n",
    "    count = 1\n",
    "    turn = 0\n",
    "\n",
    "    while 1:\n",
    "        direction = turn_left(direction)\n",
    "        nx = x + dx[direction]\n",
    "        ny = y + dy[direction]\n",
    "\n",
    "        print(nx, ny)\n",
    "\n",
    "        if(d[nx][ny] == 0 and arr[nx][ny] == 0):\n",
    "            d[nx][ny] = 1\n",
    "            x = nx\n",
    "            y = ny\n",
    "            count += 1\n",
    "            turn = 0\n",
    "            print('===', (x,y))\n",
    "            continue\n",
    "        else:\n",
    "            turn += 1\n",
    "        if turn == 4:\n",
    "            nx = x - dx[direction]\n",
    "            ny = y - dy[direction]\n",
    "            if arr[nx][ny] == 0:\n",
    "                x = nx\n",
    "                y = ny\n",
    "            else:\n",
    "                break\n",
    "            turn = 0\n",
    "\n",
    "    print(count)\n",
    "\n",
    "gameMap()"
   ]
  }
 ],
 "metadata": {
  "kernelspec": {
   "display_name": "Python 3",
   "language": "python",
   "name": "python3"
  },
  "language_info": {
   "codemirror_mode": {
    "name": "ipython",
    "version": 3
   },
   "file_extension": ".py",
   "mimetype": "text/x-python",
   "name": "python",
   "nbconvert_exporter": "python",
   "pygments_lexer": "ipython3",
   "version": "3.12.6"
  }
 },
 "nbformat": 4,
 "nbformat_minor": 2
}
