{
 "cells": [
  {
   "cell_type": "code",
   "execution_count": null,
   "metadata": {},
   "outputs": [],
   "source": [
    "# GEEDY\n",
    "# example_x가 있다면 자세히 볼 것!!!\n",
    "# 추가적으로 알게된 항목이니 시험 전 항상 유의할 것."
   ]
  },
  {
   "cell_type": "code",
   "execution_count": 2,
   "metadata": {},
   "outputs": [
    {
     "name": "stdout",
     "output_type": "stream",
     "text": [
      "[2, 2, 1, 1]\n"
     ]
    }
   ],
   "source": [
    "#거스름돈\n",
    "\n",
    "def example1():\n",
    "    coin_types = [500, 100, 50, 10]\n",
    "    target = int(input())\n",
    "    result = []\n",
    "    for coin in coin_types:\n",
    "        result.append(target//coin)\n",
    "        target %= coin\n",
    "\n",
    "    print(result)\n",
    "\n",
    "example1()"
   ]
  },
  {
   "cell_type": "code",
   "execution_count": 20,
   "metadata": {},
   "outputs": [
    {
     "name": "stdout",
     "output_type": "stream",
     "text": [
      "[4, 4, 4, 4, 4, 4, 4]\n"
     ]
    }
   ],
   "source": [
    "# 큰 수의 법칙\n",
    "\n",
    "def example2():\n",
    "    n, m, k= map(int, input().split())\n",
    "    num_list = list(map(int, input().split()))\n",
    "    num_list.sort()\n",
    "\n",
    "    first = num_list[n-1]\n",
    "    second = num_list[n-2]\n",
    "\n",
    "    result = []\n",
    "\n",
    "    while 1:\n",
    "        for i in range(k):\n",
    "            if(m==0):break\n",
    "            result.append(first)\n",
    "            m -= 1\n",
    "\n",
    "        if(m==0):break\n",
    "        result.append(second)\n",
    "        m-=1\n",
    "\n",
    "    print(result)\n",
    "\n",
    "example2()\n",
    "# 정답이 result처럼 list여야 한다면 이렇게 넣어주는게 맞음\n",
    "# 그러나, 합을 구하는 것이라면???\n",
    "# BIG1 몇개 더해지는지, BIG2 몇개 더해지는지 계산하는게 더 빠를 수 있음.\n",
    "# BIG1은 M//(K+1)이 K번 반복을 하고 나머지만큼은 BIG1이 들어가게된다.\n",
    "# BIG2는 M개에서 BIG1갯수를 뺀 만큼 들어간다.\n",
    "\n",
    "def example2_1():\n",
    "    n, m, k= map(int, input().split())\n",
    "    num_list = list(map(int, input().split()))\n",
    "    num_list.sort()\n",
    "\n",
    "    first = num_list[n-1]\n",
    "    second = num_list[n-2]\n",
    "\n",
    "    count = m//(k+1)*k + m%(k+1)\n",
    "\n",
    "    result = count*first + (m-count)*second\n",
    "\n",
    "    print(result)\n",
    "\n",
    "# example2_1()"
   ]
  },
  {
   "cell_type": "code",
   "execution_count": 27,
   "metadata": {},
   "outputs": [
    {
     "name": "stdout",
     "output_type": "stream",
     "text": [
      "3\n"
     ]
    }
   ],
   "source": [
    "# 숫자 카드 게임\n",
    "\n",
    "def example3():\n",
    "    rows, cols = map(int, input().split())\n",
    "    filtered_cards = []\n",
    "    for r in range(rows):\n",
    "        row = list(map(int, input().split()))\n",
    "        filtered_cards.append(min(row))\n",
    "\n",
    "    print(max(filtered_cards))\n",
    "\n",
    "example3()\n",
    "    "
   ]
  },
  {
   "cell_type": "code",
   "execution_count": 46,
   "metadata": {},
   "outputs": [
    {
     "name": "stdout",
     "output_type": "stream",
     "text": [
      "24 1\n",
      "8 2\n",
      "7 3\n",
      "6 4\n",
      "2 5\n",
      "1 6\n",
      "exam 6\n",
      "24 1\n",
      "8 2\n",
      "7 3\n",
      "6 4\n",
      "2 5\n",
      "exam1 6\n",
      "24 2 8\n",
      "6 5 2\n",
      "exam2 6\n"
     ]
    }
   ],
   "source": [
    "import time\n",
    "# 1이 될 때 까지\n",
    "\n",
    "def example4():\n",
    "    # n, k = map(int, input().split())\n",
    "    n,k = (25, 3)\n",
    "    result = 0\n",
    "    while n != 1:\n",
    "        if(n%k == 0):\n",
    "            n //= k\n",
    "            result += 1\n",
    "        else:\n",
    "            n -= 1\n",
    "            result += 1\n",
    "        print(n, result) \n",
    "\n",
    "\n",
    "    print('exam', result)\n",
    "\n",
    "def example4_1():\n",
    "    n,k = (25, 3)\n",
    "    result = 0\n",
    "\n",
    "    while n>=k:\n",
    "        while n%k != 0:\n",
    "            n-=1\n",
    "            result += 1\n",
    "            print(n, result)\n",
    "        n//=k\n",
    "        result += 1\n",
    "        print(n, result)\n",
    "\n",
    "    result += n-1\n",
    "\n",
    "    print('exam1', result)\n",
    "\n",
    "def example4_2():\n",
    "    # n, k = map(int, input().split())\n",
    "    n,k = (25, 3)\n",
    "    result = 0\n",
    "\n",
    "    while 1:\n",
    "        target = (n//k) * k\n",
    "        result += (n-target)\n",
    "        n = target\n",
    "\n",
    "        if(n<k):\n",
    "            break\n",
    "\n",
    "        result += 1\n",
    "        n//=k\n",
    "        print(target, result, n)\n",
    "\n",
    "    result += n-1\n",
    "    print('exam2', result)\n",
    "\n",
    "example4()\n",
    "\n",
    "example4_1()\n",
    "\n",
    "example4_2()"
   ]
  }
 ],
 "metadata": {
  "kernelspec": {
   "display_name": "Python 3",
   "language": "python",
   "name": "python3"
  },
  "language_info": {
   "codemirror_mode": {
    "name": "ipython",
    "version": 3
   },
   "file_extension": ".py",
   "mimetype": "text/x-python",
   "name": "python",
   "nbconvert_exporter": "python",
   "pygments_lexer": "ipython3",
   "version": "3.12.6"
  }
 },
 "nbformat": 4,
 "nbformat_minor": 2
}
