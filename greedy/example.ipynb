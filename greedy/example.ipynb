{
 "cells": [
  {
   "cell_type": "code",
   "execution_count": null,
   "metadata": {},
   "outputs": [],
   "source": [
    "# GEEDY\n",
    "# example_x가 있다면 자세히 볼 것!!!\n",
    "# 추가적으로 알게된 항목이니 시험 전 항상 유의할 것."
   ]
  },
  {
   "cell_type": "code",
   "execution_count": 2,
   "metadata": {},
   "outputs": [
    {
     "name": "stdout",
     "output_type": "stream",
     "text": [
      "[2, 2, 1, 1]\n"
     ]
    }
   ],
   "source": [
    "#거스름돈\n",
    "\n",
    "def example1():\n",
    "    coin_types = [500, 100, 50, 10]\n",
    "    target = int(input())\n",
    "    result = []\n",
    "    for coin in coin_types:\n",
    "        result.append(target//coin)\n",
    "        target %= coin\n",
    "\n",
    "    print(result)\n",
    "\n",
    "example1()"
   ]
  },
  {
   "cell_type": "code",
   "execution_count": 20,
   "metadata": {},
   "outputs": [
    {
     "name": "stdout",
     "output_type": "stream",
     "text": [
      "[4, 4, 4, 4, 4, 4, 4]\n"
     ]
    }
   ],
   "source": [
    "# 큰 수의 법칙\n",
    "\n",
    "def example2():\n",
    "    n, m, k= map(int, input().split())\n",
    "    num_list = list(map(int, input().split()))\n",
    "    num_list.sort()\n",
    "\n",
    "    first = num_list[n-1]\n",
    "    second = num_list[n-2]\n",
    "\n",
    "    result = []\n",
    "\n",
    "    while 1:\n",
    "        for i in range(k):\n",
    "            if(m==0):break\n",
    "            result.append(first)\n",
    "            m -= 1\n",
    "\n",
    "        if(m==0):break\n",
    "        result.append(second)\n",
    "        m-=1\n",
    "\n",
    "    print(result)\n",
    "\n",
    "example2()\n",
    "# 정답이 result처럼 list여야 한다면 이렇게 넣어주는게 맞음\n",
    "# 그러나, 합을 구하는 것이라면???\n",
    "# BIG1 몇개 더해지는지, BIG2 몇개 더해지는지 계산하는게 더 빠를 수 있음.\n",
    "# BIG1은 M//(K+1)이 K번 반복을 하고 나머지만큼은 BIG1이 들어가게된다.\n",
    "# BIG2는 M개에서 BIG1갯수를 뺀 만큼 들어간다.\n",
    "\n",
    "def example2_1():\n",
    "    n, m, k= map(int, input().split())\n",
    "    num_list = list(map(int, input().split()))\n",
    "    num_list.sort()\n",
    "\n",
    "    first = num_list[n-1]\n",
    "    second = num_list[n-2]\n",
    "\n",
    "    count = m//(k+1)*k + m%(k+1)\n",
    "\n",
    "    result = count*first + (m-count)*second\n",
    "\n",
    "    print(result)\n",
    "\n",
    "# example2_1()"
   ]
  },
  {
   "cell_type": "code",
   "execution_count": 27,
   "metadata": {},
   "outputs": [
    {
     "name": "stdout",
     "output_type": "stream",
     "text": [
      "3\n"
     ]
    }
   ],
   "source": [
    "# 숫자 카드 게임\n",
    "\n",
    "def example3():\n",
    "    rows, cols = map(int, input().split())\n",
    "    filtered_cards = []\n",
    "    for r in range(rows):\n",
    "        row = list(map(int, input().split()))\n",
    "        filtered_cards.append(min(row))\n",
    "\n",
    "    print(max(filtered_cards))\n",
    "\n",
    "example3()\n",
    "    "
   ]
  },
  {
   "cell_type": "code",
   "execution_count": 46,
   "metadata": {},
   "outputs": [
    {
     "name": "stdout",
     "output_type": "stream",
     "text": [
      "24 1\n",
      "8 2\n",
      "7 3\n",
      "6 4\n",
      "2 5\n",
      "1 6\n",
      "exam 6\n",
      "24 1\n",
      "8 2\n",
      "7 3\n",
      "6 4\n",
      "2 5\n",
      "exam1 6\n",
      "24 2 8\n",
      "6 5 2\n",
      "exam2 6\n"
     ]
    }
   ],
   "source": [
    "import time\n",
    "# 1이 될 때 까지\n",
    "\n",
    "def example4():\n",
    "    # n, k = map(int, input().split())\n",
    "    n,k = (25, 3)\n",
    "    result = 0\n",
    "    while n != 1:\n",
    "        if(n%k == 0):\n",
    "            n //= k\n",
    "            result += 1\n",
    "        else:\n",
    "            n -= 1\n",
    "            result += 1\n",
    "        print(n, result) \n",
    "\n",
    "\n",
    "    print('exam', result)\n",
    "\n",
    "def example4_1():\n",
    "    n,k = (25, 3)\n",
    "    result = 0\n",
    "\n",
    "    while n>=k:\n",
    "        while n%k != 0:\n",
    "            n-=1\n",
    "            result += 1\n",
    "            print(n, result)\n",
    "        n//=k\n",
    "        result += 1\n",
    "        print(n, result)\n",
    "\n",
    "    result += n-1\n",
    "\n",
    "    print('exam1', result)\n",
    "\n",
    "def example4_2():\n",
    "    # n, k = map(int, input().split())\n",
    "    n,k = (25, 3)\n",
    "    result = 0\n",
    "\n",
    "    while 1:\n",
    "        target = (n//k) * k\n",
    "        result += (n-target)\n",
    "        n = target\n",
    "\n",
    "        if(n<k):\n",
    "            break\n",
    "\n",
    "        result += 1\n",
    "        n//=k\n",
    "        print(target, result, n)\n",
    "\n",
    "    result += n-1\n",
    "    print('exam2', result)\n",
    "\n",
    "example4()\n",
    "\n",
    "example4_1()\n",
    "\n",
    "example4_2()"
   ]
  },
  {
   "cell_type": "code",
   "execution_count": 11,
   "metadata": {},
   "outputs": [
    {
     "name": "stdout",
     "output_type": "stream",
     "text": [
      "1\n"
     ]
    }
   ],
   "source": [
    "# 불안정한 수열\n",
    "def examle():\n",
    "    n = int(input())\n",
    "    target = list(map(int,input().split()))\n",
    "    count = 1\n",
    "    for i,v in enumerate(target[:-1]):\n",
    "        if (v + target[i+1])%2 == 1:\n",
    "            count += 1\n",
    "    print(count)\n",
    "\n",
    "examle()"
   ]
  },
  {
   "cell_type": "code",
   "execution_count": 22,
   "metadata": {},
   "outputs": [
    {
     "name": "stdout",
     "output_type": "stream",
     "text": [
      "[[2, 1], [5, 7], [8, 3]]\n",
      "3\n",
      "12\n",
      "15\n",
      "15\n"
     ]
    }
   ],
   "source": [
    "# 소 검문\n",
    "def example():\n",
    "    attempts = int(input())\n",
    "    cows = []\n",
    "    for _ in range(attempts):\n",
    "        cows.append(list(map(int,input().split())))\n",
    "\n",
    "    cows.sort()\n",
    "    start = cows[0][0]\n",
    "    for c in cows:\n",
    "        if start > c[0]:\n",
    "            start += c[1]\n",
    "        else:\n",
    "            start = c[0] + c[1]\n",
    "    print(start)\n",
    "\n",
    "example()"
   ]
  },
  {
   "cell_type": "code",
   "execution_count": 1,
   "metadata": {},
   "outputs": [
    {
     "name": "stdout",
     "output_type": "stream",
     "text": [
      "[1, 3, 6, 9, 13]\n",
      "\n"
     ]
    }
   ],
   "source": [
    "# ATM\n",
    "def example():\n",
    "    n = int(input())\n",
    "    times = list(map(int, input().split()))\n",
    "    times.sort()\n",
    "    result = []\n",
    "    count = 0\n",
    "    for t in times:\n",
    "        count += t\n",
    "        result.append(count)\n",
    "\n",
    "    print(sum(result))\n",
    "example()"
   ]
  },
  {
   "cell_type": "code",
   "execution_count": 15,
   "metadata": {},
   "outputs": [
    {
     "name": "stdout",
     "output_type": "stream",
     "text": [
      "4200 1000\n",
      "200 100\n",
      "6\n"
     ]
    }
   ],
   "source": [
    "# 동전 0\n",
    "def example():\n",
    "    n, k = map(int, input().split())\n",
    "    coins = []\n",
    "    result = 0\n",
    "    for _ in range(n):\n",
    "        coins.append(int(input()))\n",
    "    coins.sort(reverse=True)\n",
    "    for coin in coins:\n",
    "        if k == 0:\n",
    "            break\n",
    "        if coin <= k:\n",
    "            result += k//coin\n",
    "            k %= coin\n",
    "\n",
    "    print(result)\n",
    "\n",
    "example()"
   ]
  },
  {
   "cell_type": "code",
   "execution_count": 10,
   "metadata": {},
   "outputs": [
    {
     "name": "stdout",
     "output_type": "stream",
     "text": [
      "2\n",
      "1\n"
     ]
    }
   ],
   "source": []
  }
 ],
 "metadata": {
  "kernelspec": {
   "display_name": "base",
   "language": "python",
   "name": "python3"
  },
  "language_info": {
   "codemirror_mode": {
    "name": "ipython",
    "version": 3
   },
   "file_extension": ".py",
   "mimetype": "text/x-python",
   "name": "python",
   "nbconvert_exporter": "python",
   "pygments_lexer": "ipython3",
   "version": "3.12.4"
  }
 },
 "nbformat": 4,
 "nbformat_minor": 2
}
