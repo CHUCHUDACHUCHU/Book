{
 "cells": [
  {
   "cell_type": "code",
   "execution_count": null,
   "metadata": {},
   "outputs": [],
   "source": [
    "# BJ에 있는 greedy 문제풀이입니다."
   ]
  },
  {
   "cell_type": "code",
   "execution_count": 19,
   "metadata": {},
   "outputs": [
    {
     "name": "stdout",
     "output_type": "stream",
     "text": [
      "YES\n",
      "UDDDU\n"
     ]
    }
   ],
   "source": [
    "def hanger():\n",
    "    N = int(input())\n",
    "    hangers = list(map(int, input().split()))\n",
    "    U, D = map(int, input().split())\n",
    "\n",
    "    result = [''] * N\n",
    "\n",
    "    for i in range(N):\n",
    "        if hangers[i] == 1 and U > 0:\n",
    "            result[i] = 'U'\n",
    "            U -= 1\n",
    "\n",
    "    for i in range(N):\n",
    "        if hangers[i] == 2 and D > 0:\n",
    "            result[i] = 'D'\n",
    "            D -= 1\n",
    "\n",
    "    for i in range(N):\n",
    "        if hangers[i] == 3:\n",
    "            if U > 0:\n",
    "                result[i] = 'U'\n",
    "                U -= 1\n",
    "            elif D > 0:\n",
    "                result[i] = 'D'\n",
    "                D -= 1\n",
    "\n",
    "    if U > 0 or D > 0:\n",
    "        print(\"NO\")\n",
    "    else:\n",
    "        print(\"YES\")\n",
    "        print(\"\".join(result))\n",
    "\n",
    "hanger()\n"
   ]
  }
 ],
 "metadata": {
  "kernelspec": {
   "display_name": "base",
   "language": "python",
   "name": "python3"
  },
  "language_info": {
   "codemirror_mode": {
    "name": "ipython",
    "version": 3
   },
   "file_extension": ".py",
   "mimetype": "text/x-python",
   "name": "python",
   "nbconvert_exporter": "python",
   "pygments_lexer": "ipython3",
   "version": "3.12.4"
  }
 },
 "nbformat": 4,
 "nbformat_minor": 2
}
