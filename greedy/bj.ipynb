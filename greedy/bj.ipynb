{
 "cells": [
  {
   "cell_type": "code",
   "execution_count": null,
   "metadata": {},
   "outputs": [],
   "source": [
    "# 탐욕법\n",
    "# ver:24.10.21 13:37\n",
    "# level : silver(5,4,3)"
   ]
  },
  {
   "cell_type": "code",
   "execution_count": 19,
   "metadata": {},
   "outputs": [
    {
     "name": "stdout",
     "output_type": "stream",
     "text": [
      "YES\n",
      "UDDDU\n"
     ]
    }
   ],
   "source": [
    "def hanger():\n",
    "    N = int(input())\n",
    "    hangers = list(map(int, input().split()))\n",
    "    U, D = map(int, input().split())\n",
    "\n",
    "    result = [''] * N\n",
    "\n",
    "    for i in range(N):\n",
    "        if hangers[i] == 1 and U > 0:\n",
    "            result[i] = 'U'\n",
    "            U -= 1\n",
    "\n",
    "    for i in range(N):\n",
    "        if hangers[i] == 2 and D > 0:\n",
    "            result[i] = 'D'\n",
    "            D -= 1\n",
    "\n",
    "    for i in range(N):\n",
    "        if hangers[i] == 3:\n",
    "            if U > 0:\n",
    "                result[i] = 'U'\n",
    "                U -= 1\n",
    "            elif D > 0:\n",
    "                result[i] = 'D'\n",
    "                D -= 1\n",
    "\n",
    "    if U > 0 or D > 0:\n",
    "        print(\"NO\")\n",
    "    else:\n",
    "        print(\"YES\")\n",
    "        print(\"\".join(result))\n",
    "\n",
    "hanger()\n"
   ]
  },
  {
   "cell_type": "code",
   "execution_count": 3,
   "metadata": {},
   "outputs": [
    {
     "name": "stdout",
     "output_type": "stream",
     "text": [
      "YES\n",
      "UDDDU\n"
     ]
    }
   ],
   "source": [
    "def hanger_re():\n",
    "    total = int(input())\n",
    "    hanger = list(map(int, input().split()))\n",
    "    up, down = map(int, input().split())\n",
    "    result = ['' for _ in range(total)]\n",
    "\n",
    "    for i in range(total):\n",
    "        if(hanger[i] == 1 and up>0):\n",
    "            up -= 1\n",
    "            result[i] = 'U'\n",
    "    for i in range(total):\n",
    "        if(hanger[i] == 2 and down>0):\n",
    "            down -= 1\n",
    "            result[i] = 'D'\n",
    "\n",
    "    for i in range(total):\n",
    "        if(hanger[i] == 3) :\n",
    "            if(up > 0):\n",
    "                up -= 1\n",
    "                result[i] = 'U'\n",
    "            elif(down > 0):\n",
    "                down -= 1\n",
    "                result[i] = 'D'\n",
    "\n",
    "    if(up>0 or down>0):\n",
    "        print('NO')\n",
    "    else:\n",
    "        print('YES')\n",
    "        print(''.join(result))\n",
    "\n",
    "hanger_re()\n"
   ]
  },
  {
   "cell_type": "code",
   "execution_count": 18,
   "metadata": {},
   "outputs": [
    {
     "name": "stdout",
     "output_type": "stream",
     "text": [
      "0\n"
     ]
    }
   ],
   "source": [
    "# 짐 챙기는 숌\n",
    "def box():\n",
    "    count, weight = map(int, input().split())\n",
    "    if count == 0:\n",
    "        print(0)\n",
    "        return\n",
    "    books = map(int,input().split())\n",
    "    box = 1\n",
    "    current = 0\n",
    "    for book in books:\n",
    "        current += book\n",
    "        if current > weight:\n",
    "            box += 1\n",
    "            current = book\n",
    "    print(box)\n",
    "\n",
    "box()"
   ]
  },
  {
   "cell_type": "raw",
   "metadata": {
    "vscode": {
     "languageId": "raw"
    }
   },
   "source": [
    "BBRBRBBR\n",
    "BRBRBR\n",
    "\n",
    "RBBRBBRBBRBBRBB\n",
    "RRRRRRRRRRRRRRR 1\n",
    "RBBRBBRBBRBBRBB 6\n",
    "\n",
    "RBBRBBRBBRBBRBBRRR\n",
    "BBBBBBBBBBBBBBBRRR 1\n",
    "RBBRBBRBBRBBRBBRRR 6\n",
    "RBRBRBRBRBR\n",
    "\n",
    "\n",
    "\n",
    "BRBBRBRBRBRBBBRRRR\n",
    "= BRBRBRBRBRBR\n",
    "BBBBBBBBBBBBBBBBBB 1\n",
    "BRBBRBRBRBRBBBRRRR 6\n",
    "\n",
    "BRBBRBRBRBRBBB\n",
    "=BRBRBRBRBRB => (11) -> 6/5 -> \n",
    "\n",
    "BBBBBBBBBBBBBB =1\n",
    "BRBBRBRBRBRBBB =6\n",
    "\n",
    "BRBBRBRBRBRBBBRRRR\n",
    "RRRRRRRRRRRRRR      1\n",
    "BRBBRBRB      6\n"
   ]
  },
  {
   "cell_type": "code",
   "execution_count": 42,
   "metadata": {},
   "outputs": [
    {
     "name": "stdout",
     "output_type": "stream",
     "text": [
      "4\n"
     ]
    }
   ],
   "source": [
    "# 블로그2\n",
    "def blog():\n",
    "    count = int(input())\n",
    "    target = input()\n",
    "    arr = [target[0]]\n",
    "\n",
    "    for c in target[1:]:\n",
    "        if arr[-1] == c:\n",
    "            continue\n",
    "        else:\n",
    "            arr.append(c) \n",
    "\n",
    "    red_groups = arr.count('R')\n",
    "    blue_groups = arr.count('B')\n",
    "\n",
    "    print(min(red_groups, blue_groups) + 1)\n",
    "\n",
    "blog()"
   ]
  },
  {
   "cell_type": "code",
   "execution_count": 33,
   "metadata": {},
   "outputs": [
    {
     "name": "stdout",
     "output_type": "stream",
     "text": [
      "['x', 's', 'x', 's']\n"
     ]
    }
   ],
   "source": [
    "x = 'xxssxxxs'\n",
    "arr = ['x']\n",
    "for i in x[1:]:\n",
    "    if arr[-1] == i:\n",
    "        continue\n",
    "    else:\n",
    "        arr.append(i)\n",
    "print(arr)"
   ]
  }
 ],
 "metadata": {
  "kernelspec": {
   "display_name": "base",
   "language": "python",
   "name": "python3"
  },
  "language_info": {
   "codemirror_mode": {
    "name": "ipython",
    "version": 3
   },
   "file_extension": ".py",
   "mimetype": "text/x-python",
   "name": "python",
   "nbconvert_exporter": "python",
   "pygments_lexer": "ipython3",
   "version": "3.12.4"
  }
 },
 "nbformat": 4,
 "nbformat_minor": 2
}
