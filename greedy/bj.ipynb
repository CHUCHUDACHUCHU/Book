{
 "cells": [
  {
   "cell_type": "code",
   "execution_count": null,
   "metadata": {},
   "outputs": [],
   "source": [
    "# BJ에 있는 greedy 문제풀이입니다."
   ]
  },
  {
   "cell_type": "code",
   "execution_count": 19,
   "metadata": {},
   "outputs": [
    {
     "name": "stdout",
     "output_type": "stream",
     "text": [
      "YES\n",
      "UDDDU\n"
     ]
    }
   ],
   "source": [
    "def hanger():\n",
    "    N = int(input())\n",
    "    hangers = list(map(int, input().split()))\n",
    "    U, D = map(int, input().split())\n",
    "\n",
    "    result = [''] * N\n",
    "\n",
    "    for i in range(N):\n",
    "        if hangers[i] == 1 and U > 0:\n",
    "            result[i] = 'U'\n",
    "            U -= 1\n",
    "\n",
    "    for i in range(N):\n",
    "        if hangers[i] == 2 and D > 0:\n",
    "            result[i] = 'D'\n",
    "            D -= 1\n",
    "\n",
    "    for i in range(N):\n",
    "        if hangers[i] == 3:\n",
    "            if U > 0:\n",
    "                result[i] = 'U'\n",
    "                U -= 1\n",
    "            elif D > 0:\n",
    "                result[i] = 'D'\n",
    "                D -= 1\n",
    "\n",
    "    if U > 0 or D > 0:\n",
    "        print(\"NO\")\n",
    "    else:\n",
    "        print(\"YES\")\n",
    "        print(\"\".join(result))\n",
    "\n",
    "hanger()\n"
   ]
  },
  {
   "cell_type": "code",
   "execution_count": 3,
   "metadata": {},
   "outputs": [
    {
     "name": "stdout",
     "output_type": "stream",
     "text": [
      "YES\n",
      "UDDDU\n"
     ]
    }
   ],
   "source": [
    "def hanger_re():\n",
    "    total = int(input())\n",
    "    hanger = list(map(int, input().split()))\n",
    "    up, down = map(int, input().split())\n",
    "    result = ['' for _ in range(total)]\n",
    "\n",
    "    for i in range(total):\n",
    "        if(hanger[i] == 1 and up>0):\n",
    "            up -= 1\n",
    "            result[i] = 'U'\n",
    "    for i in range(total):\n",
    "        if(hanger[i] == 2 and down>0):\n",
    "            down -= 1\n",
    "            result[i] = 'D'\n",
    "\n",
    "    for i in range(total):\n",
    "        if(hanger[i] == 3) :\n",
    "            if(up > 0):\n",
    "                up -= 1\n",
    "                result[i] = 'U'\n",
    "            elif(down > 0):\n",
    "                down -= 1\n",
    "                result[i] = 'D'\n",
    "\n",
    "    if(up>0 or down>0):\n",
    "        print('NO')\n",
    "    else:\n",
    "        print('YES')\n",
    "        print(''.join(result))\n",
    "\n",
    "hanger_re()\n"
   ]
  }
 ],
 "metadata": {
  "kernelspec": {
   "display_name": "Python 3",
   "language": "python",
   "name": "python3"
  },
  "language_info": {
   "codemirror_mode": {
    "name": "ipython",
    "version": 3
   },
   "file_extension": ".py",
   "mimetype": "text/x-python",
   "name": "python",
   "nbconvert_exporter": "python",
   "pygments_lexer": "ipython3",
   "version": "3.12.6"
  }
 },
 "nbformat": 4,
 "nbformat_minor": 2
}
